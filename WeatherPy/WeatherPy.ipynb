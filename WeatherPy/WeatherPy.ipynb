{
 "cells": [
  {
   "cell_type": "markdown",
   "metadata": {},
   "source": [
    "# WeatherPy\n",
    "----\n",
    "\n",
    "#### Note\n",
    "* Instructions have been included for each segment. You do not have to follow them exactly, but they are included to help you think through the steps."
   ]
  },
  {
   "cell_type": "code",
   "execution_count": 1,
   "metadata": {
    "scrolled": true
   },
   "outputs": [],
   "source": [
    "# Dependencies and Setup\n",
    "import matplotlib.pyplot as plt\n",
    "import pandas as pd\n",
    "import numpy as np\n",
    "import requests\n",
    "import time\n",
    "from scipy.stats import linregress\n",
    "\n",
    "# Import API key\n",
    "weather_api_key=\"481b7ae195402d3f234a8ccd0ed278f1\"\n",
    "\n",
    "\n",
    "\n",
    "# Incorporated citipy to determine city based on latitude and longitude\n",
    "from citipy import citipy\n",
    "\n",
    "# Output File (CSV)\n",
    "output_data_file = \"output_data/cities.csv\"\n",
    "\n",
    "# Range of latitudes and longitudes\n",
    "lat_range = (-90, 90)\n",
    "lng_range = (-180, 180)"
   ]
  },
  {
   "cell_type": "markdown",
   "metadata": {},
   "source": [
    "## Generate Cities List"
   ]
  },
  {
   "cell_type": "code",
   "execution_count": 2,
   "metadata": {},
   "outputs": [
    {
     "data": {
      "text/plain": [
       "651"
      ]
     },
     "execution_count": 2,
     "metadata": {},
     "output_type": "execute_result"
    }
   ],
   "source": [
    "# List for holding lat_lngs and cities\n",
    "lat_lngs = []\n",
    "cities = []\n",
    "\n",
    "# Create a set of random lat and lng combinations\n",
    "lats = np.random.uniform(low=-90.000, high=90.000, size=1500)\n",
    "lngs = np.random.uniform(low=-180.000, high=180.000, size=1500)\n",
    "lat_lngs = zip(lats, lngs)\n",
    "\n",
    "# Identify nearest city for each lat, lng combination\n",
    "for lat_lng in lat_lngs:\n",
    "    city = citipy.nearest_city(lat_lng[0], lat_lng[1]).city_name\n",
    "    \n",
    "    # If the city is unique, then add it to a our cities list\n",
    "    if city not in cities:\n",
    "        cities.append(city)\n",
    "\n",
    "# Print the city count to confirm sufficient count\n",
    "len(cities)"
   ]
  },
  {
   "cell_type": "markdown",
   "metadata": {},
   "source": [
    "### Perform API Calls\n",
    "* Perform a weather check on each city using a series of successive API calls.\n",
    "* Include a print log of each city as it'sbeing processed (with the city number and city name).\n"
   ]
  },
  {
   "cell_type": "code",
   "execution_count": 3,
   "metadata": {},
   "outputs": [
    {
     "name": "stdout",
     "output_type": "stream",
     "text": [
      "Beginning Data Retrieval\n",
      "-------------------------------\n",
      "Processing Record 1 | Geraldton\n",
      "Processing Record 2 | Ribeira Grande\n",
      "Processing Record 3 | Busselton\n",
      "Processing Record 4 | Okara\n",
      "Processing Record 5 | Ushuaia\n",
      "Processing Record 6 | Vaini\n",
      "Processing Record 7 | Kapaa\n",
      "Processing Record 8 | Zhob\n",
      "Processing Record 9 | Kavieng\n",
      "Processing Record 10 | Butaritari\n",
      "Processing Record 11 | Punta Arenas\n",
      "Processing Record 12 | Saint-Philippe\n",
      "Processing Record 13 | Calvinia\n",
      "Processing Record 14 | Lichinga\n",
      "City not found. Skipping...\n",
      "Processing Record 15 | Hobart\n",
      "City not found. Skipping...\n",
      "Processing Record 16 | Kantilo\n",
      "City not found. Skipping...\n",
      "Processing Record 17 | Shache\n",
      "Processing Record 18 | Saint Paul Harbor\n",
      "Processing Record 19 | Tasiilaq\n",
      "City not found. Skipping...\n",
      "Processing Record 20 | Mount Gambier\n",
      "Processing Record 21 | Hervey Bay\n",
      "Processing Record 22 | Deputatsky\n",
      "Processing Record 23 | San Antonio\n",
      "Processing Record 24 | Upernavik\n",
      "Processing Record 25 | Maceió\n",
      "Processing Record 26 | Dikson\n",
      "Processing Record 27 | Yellowknife\n",
      "Processing Record 28 | Oktyabr'skiy\n",
      "Processing Record 29 | Srandakan\n",
      "Processing Record 30 | Rikitea\n",
      "Processing Record 31 | Tommot\n",
      "Processing Record 32 | Traverse City\n",
      "Processing Record 33 | Padang\n",
      "Processing Record 34 | Saint George\n",
      "Processing Record 35 | Severo-Kuril'sk\n",
      "Processing Record 36 | Moose Factory\n",
      "Processing Record 37 | Quatre Cocos\n",
      "Processing Record 38 | Bambous Virieux\n",
      "Processing Record 39 | Saldanha\n",
      "Processing Record 40 | Dukat\n",
      "Processing Record 41 | Aksarka\n",
      "Processing Record 42 | Riviere-au-Renard\n",
      "Processing Record 43 | Bandarbeyla\n",
      "Processing Record 44 | Azuaga\n",
      "Processing Record 45 | Mataura\n",
      "Processing Record 46 | Pacific Grove\n",
      "Processing Record 47 | Sola\n",
      "Processing Record 48 | Bonfim\n",
      "Processing Record 49 | Sohbatpur\n",
      "City not found. Skipping...\n",
      "Processing Record 50 | Adrar\n",
      "Processing Record 51 | Bassar\n",
      "Processing Record 52 | Waingapu\n",
      "Processing Record 53 | Bredasdorp\n",
      "Processing Record 54 | Amqui\n",
      "Processing Record 55 | Port Elizabeth\n",
      "Processing Record 56 | Leningradskiy\n",
      "Processing Record 57 | Epe\n",
      "Processing Record 58 | Poum\n",
      "Processing Record 59 | Atuona\n",
      "Processing Record 60 | Jamestown\n",
      "Processing Record 61 | Santa Cruz de la Sierra\n",
      "Processing Record 62 | Tuktoyaktuk\n",
      "Processing Record 63 | Bluff\n",
      "Processing Record 64 | Port Alfred\n",
      "Processing Record 65 | Vila Velha\n",
      "Processing Record 66 | Manggar\n",
      "Processing Record 67 | Albany\n",
      "Processing Record 68 | Hong Kong\n",
      "Processing Record 69 | Talnakh\n",
      "Processing Record 70 | Pangoa\n",
      "Processing Record 71 | Newberry\n",
      "Processing Record 72 | Yumen\n",
      "City not found. Skipping...\n",
      "Processing Record 73 | Moranbah\n",
      "Processing Record 74 | Arraial do Cabo\n",
      "Processing Record 75 | Lorengau\n",
      "Processing Record 76 | Hilo\n",
      "Processing Record 77 | Ponta do Sol\n",
      "Processing Record 78 | Rio Grande\n",
      "City not found. Skipping...\n",
      "Processing Record 79 | Sibolga\n",
      "Processing Record 80 | Arrecife\n",
      "Processing Record 81 | Tocopilla\n",
      "City not found. Skipping...\n",
      "Processing Record 82 | Mossamedes\n",
      "City not found. Skipping...\n",
      "Processing Record 83 | Nānākuli\n",
      "Processing Record 84 | Chui\n",
      "Processing Record 85 | Chihuahua\n",
      "Processing Record 86 | Khovd\n",
      "Processing Record 87 | Chernyshevskiy\n",
      "Processing Record 88 | Qingdao\n",
      "Processing Record 89 | Oddur\n",
      "Processing Record 90 | Inuvik\n",
      "Processing Record 91 | Haverfordwest\n",
      "Processing Record 92 | Izhma\n",
      "Processing Record 93 | Cape Town\n",
      "City not found. Skipping...\n",
      "Processing Record 94 | Vostok\n",
      "Processing Record 95 | Nikolskoye\n",
      "City not found. Skipping...\n",
      "City not found. Skipping...\n",
      "City not found. Skipping...\n",
      "Processing Record 96 | Torbay\n",
      "Processing Record 97 | Derzhavīnsk\n",
      "Processing Record 98 | Barrow\n",
      "City not found. Skipping...\n",
      "Processing Record 99 | Okitipupa\n",
      "Processing Record 100 | Laas\n",
      "City not found. Skipping...\n",
      "Processing Record 101 | San Patricio\n",
      "Processing Record 102 | Saskylakh\n",
      "Processing Record 103 | Sungai Penuh\n",
      "Processing Record 104 | Angoche\n",
      "Processing Record 105 | Manzanillo\n",
      "City not found. Skipping...\n",
      "Processing Record 106 | Nanortalik\n",
      "Processing Record 107 | College\n",
      "Processing Record 108 | Hermanus\n",
      "Processing Record 109 | George Town\n",
      "Processing Record 110 | Cidreira\n",
      "Processing Record 111 | Tupiza\n",
      "City not found. Skipping...\n",
      "Processing Record 112 | Porto União\n",
      "Processing Record 113 | Puerto Ayora\n",
      "Processing Record 114 | Klaksvík\n",
      "Processing Record 115 | Pitimbu\n",
      "Processing Record 116 | Namatanai\n",
      "Processing Record 117 | Arak\n",
      "Processing Record 118 | Iwanai\n",
      "Processing Record 119 | Avarua\n",
      "Processing Record 120 | Beringovskiy\n",
      "Processing Record 121 | Severo-Yeniseyskiy\n",
      "Processing Record 122 | Puyang\n",
      "Processing Record 123 | Clyde River\n",
      "Processing Record 124 | Qaanaaq\n",
      "Processing Record 125 | Castro\n",
      "Processing Record 126 | Lüderitz\n",
      "Processing Record 127 | Changji\n",
      "City not found. Skipping...\n",
      "Processing Record 128 | Corner Brook\n",
      "Processing Record 129 | Saint-Pierre\n",
      "Processing Record 130 | Batagay\n",
      "Processing Record 131 | Hillsborough\n",
      "Processing Record 132 | Mahébourg\n",
      "Processing Record 133 | Dodola\n",
      "Processing Record 134 | Wau\n",
      "Processing Record 135 | Salinópolis\n",
      "Processing Record 136 | Lavrentiya\n",
      "Processing Record 137 | Henties Bay\n",
      "Processing Record 138 | Kahului\n",
      "Processing Record 139 | East London\n",
      "Processing Record 140 | Krasnosel'kup\n",
      "Processing Record 141 | Ati\n",
      "Processing Record 142 | Iqaluit\n",
      "Processing Record 143 | Preobrazheniye\n",
      "Processing Record 144 | Benjamín Hill\n",
      "Processing Record 145 | Cockburn Town\n",
      "Processing Record 146 | Khingansk\n",
      "Processing Record 147 | Monster\n",
      "Processing Record 148 | Avera\n",
      "Processing Record 149 | Tual\n",
      "Processing Record 150 | Hasaki\n",
      "Processing Record 151 | Voyvozh\n",
      "Processing Record 152 | Panguipulli\n",
      "Processing Record 153 | Amahai\n",
      "Processing Record 154 | Kalmunai\n",
      "Processing Record 155 | Mayskiy\n",
      "Processing Record 156 | Tutóia\n",
      "Processing Record 157 | Kamaishi\n",
      "Processing Record 158 | Auki\n",
      "Processing Record 159 | Hithadhoo\n",
      "Processing Record 160 | Rawson\n",
      "Processing Record 161 | Biak\n",
      "Processing Record 162 | Marzuq\n",
      "Processing Record 163 | Brae\n",
      "Processing Record 164 | Øksfjord\n",
      "City not found. Skipping...\n",
      "Processing Record 165 | Neuquén\n",
      "Processing Record 166 | Kalāleh\n",
      "Processing Record 167 | Verkhnevilyuysk\n",
      "Processing Record 168 | Tezu\n",
      "Processing Record 169 | Port Augusta\n",
      "Processing Record 170 | Cabo San Lucas\n",
      "Processing Record 171 | Hobyo\n",
      "Processing Record 172 | Esperance\n",
      "City not found. Skipping...\n",
      "City not found. Skipping...\n",
      "Processing Record 173 | Bengkulu\n",
      "Processing Record 174 | Dicabisagan\n",
      "Processing Record 175 | Lázaro Cárdenas\n",
      "Processing Record 176 | Chiredzi\n",
      "Processing Record 177 | Kangundo\n",
      "Processing Record 178 | Marsh Harbour\n",
      "Processing Record 179 | Tila\n",
      "Processing Record 180 | Lebu\n",
      "Processing Record 181 | Zyryanka\n",
      "Processing Record 182 | Carnarvon\n",
      "Processing Record 183 | Kaitangata\n",
      "Processing Record 184 | Vila Franca do Campo\n",
      "Processing Record 185 | Lagoa\n",
      "Processing Record 186 | Mugur-Aksy\n",
      "Processing Record 187 | Bethel\n",
      "Processing Record 188 | New Norfolk\n",
      "Processing Record 189 | Sava\n",
      "Processing Record 190 | Homer\n",
      "Processing Record 191 | Barabai\n",
      "Processing Record 192 | Kitob\n",
      "Processing Record 193 | Port-Gentil\n",
      "Processing Record 194 | Kuytun\n",
      "City not found. Skipping...\n",
      "Processing Record 195 | Mar del Plata\n",
      "Processing Record 196 | Freeport\n",
      "Processing Record 197 | Camopi\n",
      "Processing Record 198 | Salinas\n",
      "City not found. Skipping...\n",
      "Processing Record 199 | Khatanga\n",
      "Processing Record 200 | Touros\n",
      "Processing Record 201 | Kemijärvi\n",
      "Processing Record 202 | Provideniya\n",
      "Processing Record 203 | Sept-Îles\n",
      "Processing Record 204 | Bowen\n",
      "Processing Record 205 | Pringsewu\n",
      "Processing Record 206 | Oruzgan\n",
      "Processing Record 207 | Margate\n",
      "Processing Record 208 | Tsiroanomandidy\n",
      "Processing Record 209 | Ajdabiya\n",
      "Processing Record 210 | Ahipara\n",
      "Processing Record 211 | Cayenne\n",
      "City not found. Skipping...\n",
      "Processing Record 212 | Mackay\n",
      "Processing Record 213 | Sitka\n",
      "Processing Record 214 | San Quintín\n",
      "Processing Record 215 | Portland\n",
      "Processing Record 216 | Arrondissement de Narbonne\n",
      "Processing Record 217 | Ciudad Guayana\n",
      "Processing Record 218 | Birjand\n",
      "Processing Record 219 | Makokou\n",
      "Processing Record 220 | Bānāvar\n",
      "Processing Record 221 | Kaoma\n",
      "City not found. Skipping...\n",
      "Processing Record 222 | Awjilah\n",
      "City not found. Skipping...\n",
      "Processing Record 223 | Wellington\n",
      "Processing Record 224 | Kentville\n"
     ]
    },
    {
     "name": "stdout",
     "output_type": "stream",
     "text": [
      "Processing Record 225 | Souillac\n",
      "Processing Record 226 | Carauari\n",
      "Processing Record 227 | Kodinsk\n",
      "Processing Record 228 | Caetité\n",
      "Processing Record 229 | Lodwar\n",
      "Processing Record 230 | Itaituba\n",
      "Processing Record 231 | Sterling\n",
      "Processing Record 232 | Puerto Escondido\n",
      "Processing Record 233 | Araouane\n",
      "City not found. Skipping...\n",
      "Processing Record 234 | Narsaq\n",
      "Processing Record 235 | Pacifica\n",
      "City not found. Skipping...\n",
      "Processing Record 236 | Broken Hill\n",
      "Processing Record 237 | Bud\n",
      "Processing Record 238 | Anshan\n",
      "Processing Record 239 | Paragominas\n",
      "Processing Record 240 | Gobabis\n",
      "Processing Record 241 | Kirkland Lake\n",
      "Processing Record 242 | Atar\n",
      "Processing Record 243 | Nampula\n",
      "Processing Record 244 | Kirakira\n",
      "Processing Record 245 | Payson\n",
      "Processing Record 246 | Waipawa\n",
      "Processing Record 247 | Whyalla\n",
      "Processing Record 248 | Nouadhibou\n",
      "Processing Record 249 | Lukovetskiy\n",
      "Processing Record 250 | Mindelo\n",
      "Processing Record 251 | Alice Town\n",
      "Processing Record 252 | Constitución\n",
      "Processing Record 253 | Bathsheba\n",
      "Processing Record 254 | Tsabong\n",
      "Processing Record 255 | Parry Sound\n",
      "Processing Record 256 | Iwaki\n",
      "Processing Record 257 | Cherrapunjee\n",
      "Processing Record 258 | Yingkou\n",
      "Processing Record 259 | Paamiut\n",
      "Processing Record 260 | Launceston\n",
      "City not found. Skipping...\n",
      "Processing Record 261 | Hofn\n",
      "Processing Record 262 | Tomé\n",
      "Processing Record 263 | Grindavik\n",
      "Processing Record 264 | Muros\n",
      "Processing Record 265 | Nabire\n",
      "Processing Record 266 | Tanout\n",
      "Processing Record 267 | Thompson\n",
      "Processing Record 268 | Erenhot\n",
      "City not found. Skipping...\n",
      "Processing Record 269 | Tiksi\n",
      "City not found. Skipping...\n",
      "Processing Record 270 | Kasongo-Lunda\n",
      "Processing Record 271 | Faanui\n",
      "Processing Record 272 | Tripoli\n",
      "Processing Record 273 | Mitsamiouli\n",
      "Processing Record 274 | Pevek\n",
      "Processing Record 275 | Kommunisticheskiy\n",
      "Processing Record 276 | Boa Vista\n",
      "Processing Record 277 | Bhawana\n",
      "Processing Record 278 | Kumul\n",
      "Processing Record 279 | Comodoro Rivadavia\n",
      "Processing Record 280 | Sioux Lookout\n",
      "Processing Record 281 | Yaring\n",
      "Processing Record 282 | Artyom\n",
      "Processing Record 283 | Pirovskoye\n",
      "Processing Record 284 | Korla\n",
      "Processing Record 285 | Chokurdakh\n",
      "Processing Record 286 | Oranjemund\n",
      "Processing Record 287 | Kruisfontein\n",
      "Processing Record 288 | Kununurra\n",
      "Processing Record 289 | Schruns\n",
      "Processing Record 290 | Havelock\n",
      "Processing Record 291 | Numan\n",
      "Processing Record 292 | Llangefni\n",
      "Processing Record 293 | Luena\n",
      "Processing Record 294 | Novikovo\n",
      "Processing Record 295 | Loreto\n",
      "Processing Record 296 | Gemeente Hellevoetsluis\n",
      "Processing Record 297 | Nakhon Nayok\n",
      "Processing Record 298 | Yeppoon\n",
      "Processing Record 299 | Valparaíso\n",
      "Processing Record 300 | Port Moresby\n",
      "Processing Record 301 | Lompoc\n",
      "Processing Record 302 | Sabzawār\n",
      "Processing Record 303 | São Filipe\n",
      "Processing Record 304 | Pio XII\n",
      "Processing Record 305 | Ginir\n",
      "Processing Record 306 | Kinsale\n",
      "Processing Record 307 | Guerrero Negro\n",
      "Processing Record 308 | Jalu\n",
      "Processing Record 309 | Kollam\n",
      "Processing Record 310 | Codrington\n",
      "Processing Record 311 | Presidente Epitácio\n",
      "Processing Record 312 | Shubarkuduk\n",
      "Processing Record 313 | São João da Barra\n",
      "Processing Record 314 | Karaj\n",
      "Processing Record 315 | Itarema\n",
      "Processing Record 316 | Isiro\n",
      "Processing Record 317 | Kiiu\n",
      "Processing Record 318 | São Bernardo do Campo\n",
      "Processing Record 319 | Bairiki Village\n",
      "Processing Record 320 | Antalaha\n",
      "City not found. Skipping...\n",
      "Processing Record 321 | Champerico\n",
      "Processing Record 322 | Kultuk\n",
      "Processing Record 323 | Presidencia Roque Sáenz Peña\n",
      "Processing Record 324 | Lodja\n",
      "Processing Record 325 | Ponto Novo\n",
      "Processing Record 326 | Qasigiannguit\n",
      "Processing Record 327 | Ambon City\n",
      "Processing Record 328 | Bakchar\n",
      "Processing Record 329 | Svelgen\n",
      "Processing Record 330 | Hosangadi\n",
      "City not found. Skipping...\n",
      "Processing Record 331 | Bang Saphan\n",
      "City not found. Skipping...\n",
      "Processing Record 332 | Caconda\n",
      "Processing Record 333 | Ilulissat\n",
      "City not found. Skipping...\n",
      "Processing Record 334 | Samarai\n",
      "Processing Record 335 | Iğdır\n",
      "Processing Record 336 | Roquetas de Mar\n",
      "Processing Record 337 | Encheng\n",
      "Processing Record 338 | Miajadas\n",
      "Processing Record 339 | Fortuna\n",
      "Processing Record 340 | Kropotkin\n",
      "Processing Record 341 | Egvekinot\n",
      "City not found. Skipping...\n",
      "Processing Record 342 | Ol'ga\n",
      "Processing Record 343 | Punto Fijo\n",
      "Processing Record 344 | Shakiso\n",
      "Processing Record 345 | Saint Anthony\n",
      "Processing Record 346 | Acaraú\n",
      "Processing Record 347 | Lékoni\n",
      "Processing Record 348 | Pemba\n",
      "Processing Record 349 | Hermiston\n",
      "Processing Record 350 | Leer\n",
      "Processing Record 351 | Teya\n",
      "Processing Record 352 | Moerai\n",
      "Processing Record 353 | Bilibino\n",
      "Processing Record 354 | Hambantota\n",
      "Processing Record 355 | Shūshtar\n",
      "Processing Record 356 | Katangli\n",
      "Processing Record 357 | Batemans Bay\n",
      "Processing Record 358 | Santo André\n",
      "Processing Record 359 | Tres Arroyos\n",
      "Processing Record 360 | Mīāndoāb\n",
      "Processing Record 361 | Wahiawā\n",
      "Processing Record 362 | Balkanabat\n",
      "Processing Record 363 | Mayor Pablo Lagerenza\n",
      "Processing Record 364 | Umluj\n",
      "Processing Record 365 | Roncesvalles\n",
      "Processing Record 366 | Thunder Bay\n",
      "Processing Record 367 | Alofi\n",
      "Processing Record 368 | Wilmington\n",
      "City not found. Skipping...\n",
      "Processing Record 369 | Sørland\n",
      "Processing Record 370 | Crotone\n",
      "Processing Record 371 | Udala\n",
      "Processing Record 372 | Ola\n",
      "Processing Record 373 | Husavik\n",
      "Processing Record 374 | Srednekolymsk\n",
      "City not found. Skipping...\n",
      "Processing Record 375 | Abū Zabad\n",
      "Processing Record 376 | Port Macquarie\n",
      "Processing Record 377 | Zhigansk\n",
      "Processing Record 378 | Plouzané\n",
      "Processing Record 379 | Yulara\n",
      "Processing Record 380 | Mildura\n",
      "City not found. Skipping...\n",
      "Processing Record 381 | Praia\n",
      "Processing Record 382 | Cascais\n",
      "Processing Record 383 | Maroantsetra\n",
      "Processing Record 384 | Santa Rosa\n",
      "Processing Record 385 | Cairns\n",
      "Processing Record 386 | Longyearbyen\n",
      "Processing Record 387 | Kitwe\n",
      "Processing Record 388 | Capitão Poço\n",
      "Processing Record 389 | Natal\n",
      "Processing Record 390 | Anamur\n",
      "Processing Record 391 | Taltal\n",
      "Processing Record 392 | Vitim\n",
      "Processing Record 393 | Vardø\n",
      "Processing Record 394 | Morant Bay\n",
      "Processing Record 395 | Manokwari\n",
      "Processing Record 396 | Kozhva\n",
      "Processing Record 397 | Warri\n",
      "Processing Record 398 | Chaihe\n",
      "Processing Record 399 | La Ronge\n",
      "Processing Record 400 | Shambu\n",
      "Processing Record 401 | Itupiranga\n",
      "Processing Record 402 | Fort-Shevchenko\n",
      "Processing Record 403 | Tautira\n",
      "Processing Record 404 | Aksu\n",
      "Processing Record 405 | Valdivia\n",
      "Processing Record 406 | Bereket\n",
      "Processing Record 407 | Bilhaur\n",
      "City not found. Skipping...\n",
      "Processing Record 408 | Yokadouma\n",
      "City not found. Skipping...\n",
      "City not found. Skipping...\n",
      "Processing Record 409 | Plettenberg Bay\n",
      "Processing Record 410 | Lata\n",
      "Processing Record 411 | Huarmey\n",
      "Processing Record 412 | Belaya Gora\n",
      "Processing Record 413 | Jatai\n",
      "Processing Record 414 | Santa Vitória\n",
      "Processing Record 415 | Tessalit\n",
      "City not found. Skipping...\n",
      "Processing Record 416 | Evensk\n",
      "Processing Record 417 | Kailua\n",
      "Processing Record 418 | Mehamn\n",
      "Processing Record 419 | Steinbach am Taunus\n",
      "Processing Record 420 | Belmonte\n",
      "Processing Record 421 | Ishigaki\n",
      "Processing Record 422 | Magadan\n",
      "Processing Record 423 | Luleå\n",
      "Processing Record 424 | Dalvik\n",
      "Processing Record 425 | Pirapora\n",
      "Processing Record 426 | Hualmay\n",
      "Processing Record 427 | Coyhaique\n",
      "Processing Record 428 | Paka\n",
      "Processing Record 429 | Gemeente Heerenveen\n",
      "Processing Record 430 | Ust'-Kulom\n",
      "Processing Record 431 | Valkeala\n",
      "Processing Record 432 | Mimongo\n",
      "City not found. Skipping...\n",
      "Processing Record 433 | Kiryat Gat\n",
      "Processing Record 434 | Richards Bay\n",
      "Processing Record 435 | Tsuruoka\n",
      "City not found. Skipping...\n",
      "Processing Record 436 | Coquimbo\n",
      "Processing Record 437 | Saint-Augustin\n",
      "City not found. Skipping...\n",
      "Processing Record 438 | Luga\n",
      "Processing Record 439 | Illapel\n",
      "Processing Record 440 | Gullhaug\n",
      "Processing Record 441 | Kloulklubed\n",
      "Processing Record 442 | Caravelas\n",
      "Processing Record 443 | Vallenar\n",
      "Processing Record 444 | Dingle\n",
      "Processing Record 445 | Ashtian\n",
      "Processing Record 446 | Shingū\n",
      "City not found. Skipping...\n",
      "Processing Record 447 | Petropavlovsk-Kamchatskiy\n",
      "Processing Record 448 | Rehoboth\n",
      "Processing Record 449 | Mīnāb\n",
      "Processing Record 450 | Khasan\n",
      "Processing Record 451 | Ampanihy\n"
     ]
    },
    {
     "name": "stdout",
     "output_type": "stream",
     "text": [
      "Processing Record 452 | Gao\n",
      "Processing Record 453 | Mama\n",
      "Processing Record 454 | Dhidhdhoo\n",
      "Processing Record 455 | Bubaque\n",
      "Processing Record 456 | Airai\n",
      "City not found. Skipping...\n",
      "Processing Record 457 | Tuatapere\n",
      "Processing Record 458 | Talara\n",
      "Processing Record 459 | Tynda\n",
      "Processing Record 460 | Charter Township of Clinton\n",
      "Processing Record 461 | Orotukan\n",
      "Processing Record 462 | Chippewa Falls\n",
      "Processing Record 463 | Pokhvistnevo\n",
      "Processing Record 464 | Granadilla de Abona\n",
      "Processing Record 465 | Ruska Poliana\n",
      "City not found. Skipping...\n",
      "Processing Record 466 | Lipin Bor\n",
      "Processing Record 467 | Maracaçumé\n",
      "Processing Record 468 | Swan Hill\n",
      "Processing Record 469 | Graaff-Reinet\n",
      "Processing Record 470 | Gilgit\n",
      "Processing Record 471 | Ayorou\n",
      "Processing Record 472 | Karratha\n",
      "Processing Record 473 | Glarus\n",
      "Processing Record 474 | Yongchang\n",
      "Processing Record 475 | Huttwil\n",
      "Processing Record 476 | Camacha\n",
      "Processing Record 477 | Dubbo\n",
      "City not found. Skipping...\n",
      "Processing Record 478 | Imbituva\n",
      "Processing Record 479 | Kyra\n",
      "Processing Record 480 | Santa Maria\n",
      "City not found. Skipping...\n",
      "Processing Record 481 | Gouyave\n",
      "City not found. Skipping...\n",
      "Processing Record 482 | Sechura\n",
      "Processing Record 483 | Ambilobe\n",
      "Processing Record 484 | San Miguel de Tucumán\n",
      "City not found. Skipping...\n",
      "Processing Record 485 | Yerbogachën\n",
      "Processing Record 486 | Santa Fe\n",
      "Processing Record 487 | Polis\n",
      "Processing Record 488 | Dudinka\n",
      "Processing Record 489 | Chestermere\n",
      "Processing Record 490 | Flin Flon\n",
      "Processing Record 491 | Potenza\n",
      "Processing Record 492 | Xai-Xai\n",
      "Processing Record 493 | Departamento de Maldonado\n",
      "Processing Record 494 | Hirara\n",
      "Processing Record 495 | Kastamonu Province\n",
      "Processing Record 496 | Metro\n",
      "Processing Record 497 | Bonavista\n",
      "Processing Record 498 | Carman\n",
      "City not found. Skipping...\n",
      "Processing Record 499 | Methóni\n",
      "Processing Record 500 | São Raimundo das Mangabeiras\n",
      "Processing Record 501 | Nizhniy Kuranakh\n",
      "Processing Record 502 | Vao\n",
      "Processing Record 503 | Eureka\n",
      "Processing Record 504 | Bhan\n",
      "Processing Record 505 | Te Anau\n",
      "Processing Record 506 | São José da Coroa Grande\n",
      "Processing Record 507 | Pisco\n",
      "Processing Record 508 | Joensuu\n",
      "Processing Record 509 | Bingerville\n",
      "Processing Record 510 | Penzance\n",
      "Processing Record 511 | Tabas\n",
      "Processing Record 512 | Laguna\n",
      "Processing Record 513 | Berlevåg\n",
      "Processing Record 514 | Shimabara\n",
      "Processing Record 515 | Rundu\n",
      "Processing Record 516 | The Valley\n",
      "Processing Record 517 | Zingem\n",
      "Processing Record 518 | Ondjiva\n",
      "Processing Record 519 | Harper\n",
      "Processing Record 520 | Norman Wells\n",
      "Processing Record 521 | Eilat\n",
      "Processing Record 522 | Flinders\n",
      "Processing Record 523 | Luanda\n",
      "Processing Record 524 | Tandil\n",
      "Processing Record 525 | Aban\n",
      "Processing Record 526 | Salalah\n",
      "Processing Record 527 | Nadym\n",
      "Processing Record 528 | Ancud\n",
      "Processing Record 529 | Province of Trapani\n",
      "Processing Record 530 | Coahuayana Viejo\n",
      "Processing Record 531 | Palu\n",
      "Processing Record 532 | Milcoiu\n",
      "Processing Record 533 | Vestmannaeyjar\n",
      "Processing Record 534 | Griffin\n",
      "Processing Record 535 | Peterhead\n",
      "Processing Record 536 | Jega\n",
      "Processing Record 537 | Necochea\n",
      "Processing Record 538 | Lander\n",
      "Processing Record 539 | Fairbanks\n",
      "Processing Record 540 | Booué\n",
      "City not found. Skipping...\n",
      "Processing Record 541 | Diamantino\n",
      "Processing Record 542 | Nueva Loja\n",
      "Processing Record 543 | Nishihara\n",
      "Processing Record 544 | Buala\n",
      "Processing Record 545 | Rocha\n",
      "Processing Record 546 | Saint-François\n",
      "Processing Record 547 | Abhā\n",
      "Processing Record 548 | Tingi\n",
      "Processing Record 549 | Roebourne\n",
      "City not found. Skipping...\n",
      "City not found. Skipping...\n",
      "Processing Record 550 | Trairi\n",
      "Processing Record 551 | Kushima\n",
      "Processing Record 552 | Aljezur\n",
      "Processing Record 553 | Okha\n",
      "Processing Record 554 | Hurghada\n",
      "Processing Record 555 | Berdigestyakh\n",
      "Processing Record 556 | Kadiri\n",
      "Processing Record 557 | Petrozavodsk\n",
      "Processing Record 558 | Cherskiy\n",
      "City not found. Skipping...\n",
      "City not found. Skipping...\n",
      "Processing Record 559 | Nhulunbuy\n",
      "Processing Record 560 | Ponta Delgada\n",
      "Processing Record 561 | Westport\n",
      "Processing Record 562 | Paita\n",
      "Processing Record 563 | Kieta\n",
      "Processing Record 564 | Koygorodok\n",
      "City not found. Skipping...\n",
      "Processing Record 565 | Mufumbwe\n",
      "Processing Record 566 | Manicoré\n",
      "City not found. Skipping...\n",
      "Processing Record 567 | Walajapet\n",
      "Processing Record 568 | Pontianak\n",
      "City not found. Skipping...\n",
      "Processing Record 569 | Linda\n",
      "Processing Record 570 | Nogliki\n",
      "Processing Record 571 | Norfolk\n",
      "Processing Record 572 | Broome\n",
      "Processing Record 573 | Iquique\n",
      "Processing Record 574 | Santiago de Cao\n",
      "Processing Record 575 | Bignona\n",
      "City not found. Skipping...\n",
      "Processing Record 576 | Kutum\n",
      "City not found. Skipping...\n",
      "Processing Record 577 | Aklavik\n",
      "Processing Record 578 | Isangel\n",
      "Processing Record 579 | Ukiah\n",
      "Processing Record 580 | Liaoyang\n",
      "Processing Record 581 | Imbituba\n",
      "Processing Record 582 | Mount Isa\n",
      "Processing Record 583 | Alugan\n",
      "Processing Record 584 | Aseri\n",
      "Processing Record 585 | Cēsis\n",
      "Processing Record 586 | Ust-Tsilma\n",
      "Processing Record 587 | Kangaatsiaq\n"
     ]
    }
   ],
   "source": [
    "# OpenWeatherMap API Key\n",
    "api_key = \"481b7ae195402d3f234a8ccd0ed278f1\"\n",
    "\n",
    "# Starting URL for Weather Map API Call\n",
    "url = \"http://api.openweathermap.org/data/2.5/weather?APPID=\" + api_key\n",
    "\n",
    "#Create empty lists to append the API data into lists \n",
    "city_name = []\n",
    "cloudiness = []\n",
    "country = []\n",
    "date = []\n",
    "humidity = []\n",
    "lat = []\n",
    "lng = []\n",
    "max_temp = []\n",
    "wind_speed = []\n",
    "\n",
    "# Start the call counter \n",
    "record = 1\n",
    "\n",
    "# Log file print statement\n",
    "print(f\"Beginning Data Retrieval\")\n",
    "print(f\"-------------------------------\")\n",
    "\n",
    "#Loop through the cities in the city list \n",
    "for city in cities:  \n",
    "    \n",
    "    # Try statement to append calls where value is found \n",
    "    # Not all calls return data as OpenWeatherMap will not have have records in all the cities generated by CityPy module\n",
    "    try: \n",
    "        response = requests.get(f\"{url}&q={city}\").json() \n",
    "        city_name.append(response[\"name\"])\n",
    "        cloudiness.append(response[\"clouds\"][\"all\"])\n",
    "        country.append(response[\"sys\"][\"country\"])\n",
    "        date.append(response[\"dt\"])\n",
    "        humidity.append(response[\"main\"][\"humidity\"])\n",
    "        max_temp.append(response[\"main\"][\"temp_max\"])\n",
    "        lat.append(response[\"coord\"][\"lat\"])\n",
    "        lng.append(response[\"coord\"][\"lon\"])\n",
    "        wind_speed.append(response[\"wind\"][\"speed\"])\n",
    "        city_record = response[\"name\"]\n",
    "        \n",
    "        print(f\"Processing Record {record} | {city_record}\")\n",
    "        # print(f\"{url}&q={city}\")\n",
    "        \n",
    "        # Increase counter by one \n",
    "        record= record + 1\n",
    "        \n",
    "        # Wait a second in loop to not over exceed rate limit of API\n",
    "        time.sleep(1.01)\n",
    "        \n",
    "    # If no record found \"skip\" to next call\n",
    "    except:\n",
    "        print(\"City not found. Skipping...\")\n",
    "    continue"
   ]
  },
  {
   "cell_type": "markdown",
   "metadata": {},
   "source": [
    "### Convert Raw Data to DataFrame\n",
    "* Export the city data into a .csv.\n",
    "* Display the DataFrame"
   ]
  },
  {
   "cell_type": "code",
   "execution_count": 4,
   "metadata": {},
   "outputs": [
    {
     "data": {
      "text/plain": [
       "City          587\n",
       "Cloudiness    587\n",
       "Country       587\n",
       "Date          587\n",
       "Humidity      587\n",
       "Lat           587\n",
       "Lng           587\n",
       "Max Temp      587\n",
       "Wind Speed    587\n",
       "dtype: int64"
      ]
     },
     "execution_count": 4,
     "metadata": {},
     "output_type": "execute_result"
    }
   ],
   "source": [
    "\n",
    "\n",
    "# Create a dictonary with the lists generated\n",
    "weatherpy_dict = {\n",
    "    \"City\": city_name,\n",
    "    \"Cloudiness\":cloudiness, \n",
    "    \"Country\":country,\n",
    "    \"Date\":date, \n",
    "    \"Humidity\": humidity,\n",
    "    \"Lat\":lat, \n",
    "    \"Lng\":lng, \n",
    "    \"Max Temp\": max_temp,\n",
    "    \"Wind Speed\":wind_speed\n",
    "}\n",
    "\n",
    "# Create a data frame from dictionary\n",
    "weather_data = pd.DataFrame(weatherpy_dict)\n",
    "\n",
    "\n",
    "\n",
    "# Display count of weather data values \n",
    "weather_data.count()\n",
    "\n"
   ]
  },
  {
   "cell_type": "code",
   "execution_count": 5,
   "metadata": {},
   "outputs": [
    {
     "data": {
      "text/html": [
       "<div>\n",
       "<style scoped>\n",
       "    .dataframe tbody tr th:only-of-type {\n",
       "        vertical-align: middle;\n",
       "    }\n",
       "\n",
       "    .dataframe tbody tr th {\n",
       "        vertical-align: top;\n",
       "    }\n",
       "\n",
       "    .dataframe thead th {\n",
       "        text-align: right;\n",
       "    }\n",
       "</style>\n",
       "<table border=\"1\" class=\"dataframe\">\n",
       "  <thead>\n",
       "    <tr style=\"text-align: right;\">\n",
       "      <th></th>\n",
       "      <th>City</th>\n",
       "      <th>Cloudiness</th>\n",
       "      <th>Country</th>\n",
       "      <th>Date</th>\n",
       "      <th>Humidity</th>\n",
       "      <th>Lat</th>\n",
       "      <th>Lng</th>\n",
       "      <th>Max Temp</th>\n",
       "      <th>Wind Speed</th>\n",
       "    </tr>\n",
       "  </thead>\n",
       "  <tbody>\n",
       "    <tr>\n",
       "      <td>0</td>\n",
       "      <td>Geraldton</td>\n",
       "      <td>75</td>\n",
       "      <td>AU</td>\n",
       "      <td>1586643530</td>\n",
       "      <td>100</td>\n",
       "      <td>-28.77</td>\n",
       "      <td>114.60</td>\n",
       "      <td>292.15</td>\n",
       "      <td>1.50</td>\n",
       "    </tr>\n",
       "    <tr>\n",
       "      <td>1</td>\n",
       "      <td>Ribeira Grande</td>\n",
       "      <td>0</td>\n",
       "      <td>PT</td>\n",
       "      <td>1586643531</td>\n",
       "      <td>71</td>\n",
       "      <td>38.52</td>\n",
       "      <td>-28.70</td>\n",
       "      <td>290.15</td>\n",
       "      <td>3.46</td>\n",
       "    </tr>\n",
       "    <tr>\n",
       "      <td>2</td>\n",
       "      <td>Busselton</td>\n",
       "      <td>96</td>\n",
       "      <td>AU</td>\n",
       "      <td>1586643497</td>\n",
       "      <td>69</td>\n",
       "      <td>-33.65</td>\n",
       "      <td>115.33</td>\n",
       "      <td>294.82</td>\n",
       "      <td>3.64</td>\n",
       "    </tr>\n",
       "    <tr>\n",
       "      <td>3</td>\n",
       "      <td>Okara</td>\n",
       "      <td>81</td>\n",
       "      <td>PK</td>\n",
       "      <td>1586643533</td>\n",
       "      <td>34</td>\n",
       "      <td>30.81</td>\n",
       "      <td>73.45</td>\n",
       "      <td>298.12</td>\n",
       "      <td>2.04</td>\n",
       "    </tr>\n",
       "    <tr>\n",
       "      <td>4</td>\n",
       "      <td>Ushuaia</td>\n",
       "      <td>40</td>\n",
       "      <td>AR</td>\n",
       "      <td>1586643535</td>\n",
       "      <td>80</td>\n",
       "      <td>-54.80</td>\n",
       "      <td>-68.30</td>\n",
       "      <td>278.15</td>\n",
       "      <td>10.30</td>\n",
       "    </tr>\n",
       "  </tbody>\n",
       "</table>\n",
       "</div>"
      ],
      "text/plain": [
       "             City  Cloudiness Country        Date  Humidity    Lat     Lng  \\\n",
       "0       Geraldton          75      AU  1586643530       100 -28.77  114.60   \n",
       "1  Ribeira Grande           0      PT  1586643531        71  38.52  -28.70   \n",
       "2       Busselton          96      AU  1586643497        69 -33.65  115.33   \n",
       "3           Okara          81      PK  1586643533        34  30.81   73.45   \n",
       "4         Ushuaia          40      AR  1586643535        80 -54.80  -68.30   \n",
       "\n",
       "   Max Temp  Wind Speed  \n",
       "0    292.15        1.50  \n",
       "1    290.15        3.46  \n",
       "2    294.82        3.64  \n",
       "3    298.12        2.04  \n",
       "4    278.15       10.30  "
      ]
     },
     "execution_count": 5,
     "metadata": {},
     "output_type": "execute_result"
    }
   ],
   "source": [
    "\n",
    "#Create a dataframe with required items\n",
    "city_data_df = pd.DataFrame({'City': city_name,\"Cloudiness\":cloudiness,\"Country\":country, \"Date\":date, \"Humidity\": humidity,\"Lat\":lat, \"Lng\":lng,\"Max Temp\": max_temp,\"Wind Speed\":wind_speed\n",
    "})\n",
    "#Save dataframe as csv\n",
    "pd.DataFrame.to_csv(city_data_df, output_data_file)\n",
    "\n",
    "city_data_df.head()\n",
    "\n",
    "      "
   ]
  },
  {
   "cell_type": "markdown",
   "metadata": {},
   "source": [
    "### Plotting the Data\n",
    "* Use proper labeling of the plots using plot titles (including date of analysis) and axes labels.\n",
    "* Save the plotted figures as .pngs."
   ]
  },
  {
   "cell_type": "markdown",
   "metadata": {},
   "source": [
    "#### Latitude vs. Temperature Plot"
   ]
  },
  {
   "cell_type": "code",
   "execution_count": 6,
   "metadata": {
    "scrolled": true
   },
   "outputs": [
    {
     "data": {
      "image/png": "[encoded data removed]",
      "text/plain": [
       "<Figure size 432x288 with 1 Axes>"
      ]
     },
     "metadata": {
      "needs_background": "light"
     },
     "output_type": "display_data"
    }
   ],
   "source": [
    "# Latitude Vs Max Temperature plot\n",
    "# Build a scatter plot for each data type\n",
    "plt.scatter(weather_data[\"Lat\"], weather_data[\"Max Temp\"], marker=\"o\", s=10)\n",
    "\n",
    "# Incorporate the other graph properties\n",
    "plt.title(\"City Latitude vs. Max Temperature\")\n",
    "plt.ylabel(\"Max. Temperature (F)\")\n",
    "plt.xlabel(\"Latitude\")\n",
    "plt.grid(True)\n",
    "\n",
    "\n",
    "\n",
    "# Show plot\n",
    "plt.show()"
   ]
  },
  {
   "cell_type": "markdown",
   "metadata": {},
   "source": [
    "#### Latitude vs. Humidity Plot"
   ]
  },
  {
   "cell_type": "code",
   "execution_count": 7,
   "metadata": {},
   "outputs": [
    {
     "data": {
      "image/png": "[encoded data removed]",
      "text/plain": [
       "<Figure size 432x288 with 1 Axes>"
      ]
     },
     "metadata": {
      "needs_background": "light"
     },
     "output_type": "display_data"
    }
   ],
   "source": [
    "# Build a scatter plot for each data type\n",
    "plt.scatter(weather_data[\"Lat\"], weather_data[\"Humidity\"], marker=\"o\", s=10)\n",
    "\n",
    "# Incorporate the other graph properties\n",
    "plt.title(\"City Latitude vs. Humidity\")\n",
    "plt.ylabel(\"Humidity (%)\")\n",
    "plt.xlabel(\"Latitude\")\n",
    "plt.grid(True)\n",
    "\n",
    "\n",
    "# Show plot\n",
    "plt.show()"
   ]
  },
  {
   "cell_type": "markdown",
   "metadata": {},
   "source": [
    "#### Latitude vs. Cloudiness Plot"
   ]
  },
  {
   "cell_type": "code",
   "execution_count": 8,
   "metadata": {},
   "outputs": [
    {
     "data": {
      "image/png": "[encoded data removed]",
      "text/plain": [
       "<Figure size 432x288 with 1 Axes>"
      ]
     },
     "metadata": {
      "needs_background": "light"
     },
     "output_type": "display_data"
    }
   ],
   "source": [
    "# Build a scatter plot for each data type\n",
    "plt.scatter(weather_data[\"Lat\"], weather_data[\"Cloudiness\"], marker=\"o\", s=10)\n",
    "\n",
    "# Incorporate the other graph properties\n",
    "plt.title(\"City Latitude vs. Cloudiness\")\n",
    "plt.ylabel(\"Cloudiness (%)\")\n",
    "plt.xlabel(\"Latitude\")\n",
    "plt.grid(True)\n",
    "\n",
    "\n",
    "# Show plot\n",
    "plt.show()"
   ]
  },
  {
   "cell_type": "markdown",
   "metadata": {},
   "source": [
    "#### Latitude vs. Wind Speed Plot"
   ]
  },
  {
   "cell_type": "code",
   "execution_count": 9,
   "metadata": {},
   "outputs": [
    {
     "data": {
      "image/png": "[encoded data removed]",
      "text/plain": [
       "<Figure size 432x288 with 1 Axes>"
      ]
     },
     "metadata": {
      "needs_background": "light"
     },
     "output_type": "display_data"
    }
   ],
   "source": [
    "# Build a scatter plot for each data type\n",
    "plt.scatter(weather_data[\"Lat\"], weather_data[\"Wind Speed\"], marker=\"o\", s=10)\n",
    "\n",
    "# Incorporate the other graph properties\n",
    "plt.title(\"City Latitude vs. Wind Speed\")\n",
    "plt.ylabel(\"Wind Speed (mph)\")\n",
    "plt.xlabel(\"Latitude\")\n",
    "plt.grid(True)\n",
    "\n",
    "\n",
    "# Show plot\n",
    "plt.show()"
   ]
  },
  {
   "cell_type": "markdown",
   "metadata": {},
   "source": [
    "## Linear Regression"
   ]
  },
  {
   "cell_type": "code",
   "execution_count": 10,
   "metadata": {},
   "outputs": [],
   "source": [
    "# OPTIONAL: Create a function to create Linear Regression plots\n",
    "# Print out the r-squared value along with the plot.\n",
    "\n",
    "\n",
    "def felitasplot(x_values, y_values):\n",
    "    (slope, intercept,rvalue, pvalue, stderr) = st.linregress(x_values, y_values)\n",
    "    regress_values = x_values * slope + intercept\n",
    "    line_eq = \"y = \" + str(round(slope,2)) + \"x + \" + str(round(intercept,2))\n",
    "    plt.scatter(x_values,y_values)\n",
    "    plt.plot(x_values,regress_values,\"r-\")\n",
    "    plt.show()\n",
    "     #Print out the r-squared value along with the plot.\n",
    "    print(f\"The r-squared is: {rvalue}\")\n",
    "    plt.show()"
   ]
  },
  {
   "cell_type": "code",
   "execution_count": 11,
   "metadata": {},
   "outputs": [],
   "source": [
    "# Create Northern and Southern Hemisphere DataFrames\n",
    "northern_weather_df = weather_data[weather_data['Lat'] > 0]\n",
    "southern_weather_df = weather_data[weather_data['Lat'] < 0] \n"
   ]
  },
  {
   "cell_type": "markdown",
   "metadata": {},
   "source": [
    "####  Northern Hemisphere - Max Temp vs. Latitude Linear Regression"
   ]
  },
  {
   "cell_type": "code",
   "execution_count": 12,
   "metadata": {},
   "outputs": [
    {
     "data": {
      "image/png": "[encoded data removed]",
      "text/plain": [
       "<Figure size 432x288 with 1 Axes>"
      ]
     },
     "metadata": {
      "needs_background": "light"
     },
     "output_type": "display_data"
    },
    {
     "name": "stdout",
     "output_type": "stream",
     "text": [
      "The r-squared is: -0.8955755767743465\n"
     ]
    }
   ],
   "source": [
    "\n",
    "# Add the linear regression equation and line to plot\n",
    "import scipy.stats as st\n",
    "import numpy as np\n",
    "\n",
    "felitasplot(northern_weather_df[\"Max Temp\"],northern_weather_df['Lat'])\n",
    "\n"
   ]
  },
  {
   "cell_type": "markdown",
   "metadata": {},
   "source": [
    "####  Southern Hemisphere - Max Temp vs. Latitude Linear Regression"
   ]
  },
  {
   "cell_type": "code",
   "execution_count": 13,
   "metadata": {},
   "outputs": [
    {
     "data": {
      "image/png": "[encoded data removed]",
      "text/plain": [
       "<Figure size 432x288 with 1 Axes>"
      ]
     },
     "metadata": {
      "needs_background": "light"
     },
     "output_type": "display_data"
    },
    {
     "name": "stdout",
     "output_type": "stream",
     "text": [
      "The r-squared is: 0.7297472055605297\n"
     ]
    }
   ],
   "source": [
    "felitasplot(southern_weather_df[\"Max Temp\"],southern_weather_df['Lat'])\n"
   ]
  },
  {
   "cell_type": "markdown",
   "metadata": {},
   "source": [
    "####  Northern Hemisphere - Humidity (%) vs. Latitude Linear Regression"
   ]
  },
  {
   "cell_type": "code",
   "execution_count": 14,
   "metadata": {},
   "outputs": [
    {
     "data": {
      "image/png": "[encoded data removed]",
      "text/plain": [
       "<Figure size 432x288 with 1 Axes>"
      ]
     },
     "metadata": {
      "needs_background": "light"
     },
     "output_type": "display_data"
    },
    {
     "name": "stdout",
     "output_type": "stream",
     "text": [
      "The r-squared is: 0.31095990105602617\n"
     ]
    }
   ],
   "source": [
    "felitasplot(northern_weather_df['Humidity'],northern_weather_df['Lat'])\n"
   ]
  },
  {
   "cell_type": "markdown",
   "metadata": {},
   "source": [
    "####  Southern Hemisphere - Humidity (%) vs. Latitude Linear Regression"
   ]
  },
  {
   "cell_type": "code",
   "execution_count": 15,
   "metadata": {},
   "outputs": [
    {
     "data": {
      "image/png": "[encoded data removed]",
      "text/plain": [
       "<Figure size 432x288 with 1 Axes>"
      ]
     },
     "metadata": {
      "needs_background": "light"
     },
     "output_type": "display_data"
    },
    {
     "name": "stdout",
     "output_type": "stream",
     "text": [
      "The r-squared is: 0.37068799391309565\n"
     ]
    }
   ],
   "source": [
    "felitasplot(southern_weather_df['Humidity'],southern_weather_df['Lat'])\n",
    "\n"
   ]
  },
  {
   "cell_type": "markdown",
   "metadata": {},
   "source": [
    "####  Northern Hemisphere - Cloudiness (%) vs. Latitude Linear Regression"
   ]
  },
  {
   "cell_type": "code",
   "execution_count": 16,
   "metadata": {},
   "outputs": [
    {
     "data": {
      "image/png": "[encoded data removed]",
      "text/plain": [
       "<Figure size 432x288 with 1 Axes>"
      ]
     },
     "metadata": {
      "needs_background": "light"
     },
     "output_type": "display_data"
    },
    {
     "name": "stdout",
     "output_type": "stream",
     "text": [
      "The r-squared is: 0.20368390451524557\n"
     ]
    }
   ],
   "source": [
    "felitasplot(northern_weather_df['Cloudiness'],northern_weather_df['Lat'])"
   ]
  },
  {
   "cell_type": "markdown",
   "metadata": {},
   "source": [
    "####  Southern Hemisphere - Cloudiness (%) vs. Latitude Linear Regression"
   ]
  },
  {
   "cell_type": "code",
   "execution_count": 17,
   "metadata": {},
   "outputs": [
    {
     "data": {
      "image/png": "[encoded data removed]",
      "text/plain": [
       "<Figure size 432x288 with 1 Axes>"
      ]
     },
     "metadata": {
      "needs_background": "light"
     },
     "output_type": "display_data"
    },
    {
     "name": "stdout",
     "output_type": "stream",
     "text": [
      "The r-squared is: 0.14870652816050708\n"
     ]
    }
   ],
   "source": [
    "felitasplot(southern_weather_df['Cloudiness'],southern_weather_df['Lat'])\n"
   ]
  },
  {
   "cell_type": "markdown",
   "metadata": {},
   "source": [
    "####  Northern Hemisphere - Wind Speed (mph) vs. Latitude Linear Regression"
   ]
  },
  {
   "cell_type": "code",
   "execution_count": 18,
   "metadata": {},
   "outputs": [
    {
     "data": {
      "image/png": "[encoded data removed]",
      "text/plain": [
       "<Figure size 432x288 with 1 Axes>"
      ]
     },
     "metadata": {
      "needs_background": "light"
     },
     "output_type": "display_data"
    },
    {
     "name": "stdout",
     "output_type": "stream",
     "text": [
      "The r-squared is: 0.05116074121983587\n"
     ]
    }
   ],
   "source": [
    "felitasplot(northern_weather_df['Wind Speed'],northern_weather_df['Lat'])\n",
    "\n"
   ]
  },
  {
   "cell_type": "markdown",
   "metadata": {},
   "source": [
    "####  Southern Hemisphere - Wind Speed (mph) vs. Latitude Linear Regression"
   ]
  },
  {
   "cell_type": "code",
   "execution_count": 19,
   "metadata": {},
   "outputs": [
    {
     "data": {
      "image/png": "[encoded data removed]",
      "text/plain": [
       "<Figure size 432x288 with 1 Axes>"
      ]
     },
     "metadata": {
      "needs_background": "light"
     },
     "output_type": "display_data"
    },
    {
     "name": "stdout",
     "output_type": "stream",
     "text": [
      "The r-squared is: -0.3815815104123347\n"
     ]
    }
   ],
   "source": [
    "felitasplot(southern_weather_df['Wind Speed'],southern_weather_df['Lat'])\n",
    "\n"
   ]
  },
  {
   "cell_type": "markdown",
   "metadata": {},
   "source": [
    "#### Analysis: \n",
    "According to my scatterplots, \n",
    "1. Temperature Vs Latitude , as the latitude increases the temperature is significantly increasing towards the equator (latitude range of-20 to 20)\n",
    "2. Wind Speed vs Latitude, the wind speed is somewhat slightly different to latitude, highest wind speed outliers occurred at latitudes farther from the equator.\n",
    "3. Cloudiness and Humidity are relatively consistence accross the lattitude, must be depends on other factors which determine the cloudiness of the day, but this particular analysis, there is a consistance spread accross the latitude.\n",
    "\n"
   ]
  },
  {
   "cell_type": "code",
   "execution_count": null,
   "metadata": {},
   "outputs": [],
   "source": []
  }
 ],
 "metadata": {
  "anaconda-cloud": {},
  "kernel_info": {
   "name": "python3"
  },
  "kernelspec": {
   "display_name": "Python 3",
   "language": "python",
   "name": "python3"
  },
  "language_info": {
   "codemirror_mode": {
    "name": "ipython",
    "version": 3
   },
   "file_extension": ".py",
   "mimetype": "text/x-python",
   "name": "python",
   "nbconvert_exporter": "python",
   "pygments_lexer": "ipython3",
   "version": "3.7.4"
  },
  "latex_envs": {
   "LaTeX_envs_menu_present": true,
   "autoclose": false,
   "autocomplete": true,
   "bibliofile": "biblio.bib",
   "cite_by": "apalike",
   "current_citInitial": 1,
   "eqLabelWithNumbers": true,
   "eqNumInitial": 1,
   "hotkeys": {
    "equation": "Ctrl-E",
    "itemize": "Ctrl-I"
   },
   "labels_anchors": false,
   "latex_user_defs": false,
   "report_style_numbering": false,
   "user_envs_cfg": false
  },
  "nteract": {
   "version": "0.12.3"
  }
 },
 "nbformat": 4,
 "nbformat_minor": 2
}
